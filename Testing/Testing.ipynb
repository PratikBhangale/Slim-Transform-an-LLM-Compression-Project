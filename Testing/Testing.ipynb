{
 "cells": [
  {
   "cell_type": "code",
   "execution_count": 1,
   "metadata": {},
   "outputs": [],
   "source": [
    "import random\n",
    "import numpy as np\n",
    "import torch\n",
    "\n",
    "# Set seed for reproducibility\n",
    "seed_value = 2\n",
    "random.seed(seed_value)\n",
    "np.random.seed(seed_value)\n",
    "torch.manual_seed(seed_value)\n",
    "if torch.cuda.is_available():\n",
    "    torch.cuda.manual_seed_all(seed_value)\n",
    "\n",
    "\n",
    "token = ''"
   ]
  },
  {
   "cell_type": "code",
   "execution_count": 2,
   "metadata": {},
   "outputs": [
    {
     "name": "stderr",
     "output_type": "stream",
     "text": [
      "Unused kwargs: ['_load_in_4bit', '_load_in_8bit', 'quant_method']. These kwargs are not used in <class 'transformers.utils.quantization_config.BitsAndBytesConfig'>.\n"
     ]
    },
    {
     "name": "stdout",
     "output_type": "stream",
     "text": [
      "Model (C:\\Users\\prati\\Desktop\\Dl Final Project\\Magnitude Pruning\\magnitude_pruned_model) size: 749.28M parameters\n"
     ]
    }
   ],
   "source": [
    "# Clear GPU memory\n",
    "import torch\n",
    "from transformers import AutoModelForCausalLM, BitsAndBytesConfig, AutoTokenizer\n",
    "import os\n",
    "\n",
    "# Configure 8-bit quantization\n",
    "quantization_config_8bit = BitsAndBytesConfig(\n",
    "    load_in_8bit=True,\n",
    "    # bnb_8bit_compute_dtype=torch.float32\n",
    ")\n",
    "\n",
    "# Configure 4-bit quantization\n",
    "quantization_config_4bit = BitsAndBytesConfig(\n",
    "    load_in_4bit=True,\n",
    "    # bnb_4bit_compute_dtype=torch.float16\n",
    ")\n",
    "\n",
    "\n",
    "if torch.cuda.is_available():\n",
    "    torch.cuda.empty_cache()\n",
    "\n",
    "\n",
    "# Force garbage collection\n",
    "import gc\n",
    "gc.collect()\n",
    "\n",
    "# Move models to GPU\n",
    "device = \"cuda\" if torch.cuda.is_available() else \"cpu\"\n",
    "\n",
    "# Set the model to be loaded ----------------------------------------------------------\n",
    "\n",
    "'''\n",
    "Models used:\n",
    "meta-llama/Llama-3.1-8B-Instruct\n",
    "meta-llama/Llama-3.2-3B-Instruct\n",
    "meta-llama/Llama-3.2-1B-Instruct\n",
    "C:\\\\Users\\\\prati\\\\Desktop\\\\Dl Final Project\\\\Magnitude Pruning\\\\magnitude_pruned_model\n",
    "C:\\\\Users\\\\prati\\\\Desktop\\\\Dl Final Project\\\\Structured Pruning\\\\pruned_llama\n",
    "C:\\\\Users\\\\prati\\\\Desktop\\\\Dl Final Project\\\\Unstructured Pruning\\\\pruned_llama_model\n",
    "'''\n",
    "\n",
    "model_name = \"C:\\\\Users\\\\prati\\\\Desktop\\\\Dl Final Project\\\\Magnitude Pruning\\\\magnitude_pruned_model\" \n",
    "\n",
    "\n",
    "teacher_model = AutoModelForCausalLM.from_pretrained(\n",
    "    model_name,\n",
    "    # quantization_config=quantization_config_4bit,\n",
    "    device_map=\"cuda\",\n",
    "    attn_implementation=\"sdpa\",\n",
    "    token=token\n",
    ")\n",
    "\n",
    "teacher_tokenizer = AutoTokenizer.from_pretrained(model_name)\n",
    "teacher_tokenizer.pad_token = teacher_tokenizer.eos_token\n",
    "\n",
    "# -------------------------------------------------------------------------------------\n",
    "\n",
    "# Get model sizes in millions of parameters\n",
    "teacher_params = sum(p.numel() for p in teacher_model.parameters()) / 1_000_000\n",
    "\n",
    "print(f\"Model ({model_name}) size: {teacher_params:.2f}M parameters\")\n",
    "\n",
    "def get_folder_size(folder_path):\n",
    "    total_size = 0\n",
    "    for dirpath, dirnames, filenames in os.walk(folder_path):\n",
    "        for filename in filenames:\n",
    "            file_path = os.path.join(dirpath, filename)\n",
    "            # Add the file size to the total size\n",
    "            total_size += os.path.getsize(file_path)\n",
    "    return total_size\n"
   ]
  },
  {
   "cell_type": "code",
   "execution_count": 3,
   "metadata": {},
   "outputs": [
    {
     "name": "stderr",
     "output_type": "stream",
     "text": [
      "c:\\Users\\prati\\anaconda3\\envs\\FINETUNE\\lib\\site-packages\\transformers\\models\\llama\\modeling_llama.py:602: UserWarning: 1Torch was not compiled with flash attention. (Triggered internally at C:\\actions-runner\\_work\\pytorch\\pytorch\\builder\\windows\\pytorch\\aten\\src\\ATen\\native\\transformers\\cuda\\sdp_utils.cpp:555.)\n",
      "  attn_output = torch.nn.functional.scaled_dot_product_attention(\n",
      "Unused kwargs: ['_load_in_4bit', '_load_in_8bit', 'quant_method']. These kwargs are not used in <class 'transformers.utils.quantization_config.BitsAndBytesConfig'>.\n",
      "`low_cpu_mem_usage` was None, now default to True since model is quantized.\n",
      "You shouldn't move a model that is dispatched using accelerate hooks.\n"
     ]
    },
    {
     "data": {
      "application/vnd.jupyter.widget-view+json": {
       "model_id": "8aef79730f954b69a612a775c7c7005b",
       "version_major": 2,
       "version_minor": 0
      },
      "text/plain": [
       "  0%|          | 0/1 [00:00<?, ?it/s]"
      ]
     },
     "metadata": {},
     "output_type": "display_data"
    },
    {
     "name": "stdout",
     "output_type": "stream",
     "text": [
      "{'perplexities': [80.6875, 18688.0, 1910.0, 608.0, 315.5], 'mean_perplexity': 4320.4375}\n"
     ]
    },
    {
     "name": "stderr",
     "output_type": "stream",
     "text": [
      "[nltk_data] Downloading package wordnet to\n",
      "[nltk_data]     C:\\Users\\prati\\AppData\\Roaming\\nltk_data...\n",
      "[nltk_data]   Package wordnet is already up-to-date!\n",
      "[nltk_data] Downloading package punkt_tab to\n",
      "[nltk_data]     C:\\Users\\prati\\AppData\\Roaming\\nltk_data...\n",
      "[nltk_data]   Package punkt_tab is already up-to-date!\n",
      "[nltk_data] Downloading package omw-1.4 to\n",
      "[nltk_data]     C:\\Users\\prati\\AppData\\Roaming\\nltk_data...\n",
      "[nltk_data]   Package omw-1.4 is already up-to-date!\n"
     ]
    },
    {
     "name": "stdout",
     "output_type": "stream",
     "text": [
      "METEOR Score: 0.37\n"
     ]
    }
   ],
   "source": [
    "import pandas as pd\n",
    "import ast\n",
    "from transformers import AutoModelForCausalLM, AutoTokenizer, pipeline\n",
    "import torch\n",
    "from evaluate import load\n",
    "\n",
    "\n",
    "df = pd.read_csv(\"Extracted_Conversations_Test.csv\")\n",
    "\n",
    "# Select the first 5 rows of the dataset\n",
    "df_first_200 = df.head(5).copy()\n",
    "\n",
    "\n",
    "# Define a function to generate responses using the LLM model\n",
    "def generate_response(input_text):\n",
    "    # Tokenize input text to get input_ids and attention_mask\n",
    "    inputs = teacher_tokenizer(input_text, return_tensors='pt', padding=True, truncation=True)\n",
    "    input_ids = inputs['input_ids'].to('cuda')\n",
    "    attention_mask = inputs['attention_mask'].to('cuda')\n",
    "    \n",
    "    # Generate the response using the model\n",
    "    outputs = teacher_model.generate(\n",
    "        input_ids=input_ids,\n",
    "        attention_mask=attention_mask,\n",
    "        max_length=1200,\n",
    "        num_return_sequences=1,\n",
    "        pad_token_id=teacher_tokenizer.eos_token_id\n",
    "    )\n",
    "    \n",
    "    # Decode the generated output\n",
    "    response = teacher_tokenizer.decode(outputs[0], skip_special_tokens=True)\n",
    "    return response\n",
    "\n",
    "\n",
    "# Evaluate the model's performance on the dataset\n",
    "predicted_responses = []\n",
    "true_responses = df_first_200['assistant'].tolist()\n",
    "\n",
    "for user_input in df_first_200['user']:\n",
    "    generated_response = generate_response(user_input)\n",
    "    predicted_responses.append(generated_response)\n",
    "\n",
    "\n",
    "\n",
    "\n",
    "# Load perplexity metric\n",
    "perplexity_metric = load(\"perplexity\", module_type=\"metric\")\n",
    "\n",
    "# Calculate perplexity scores\n",
    "perplexity_scores = perplexity_metric.compute(predictions=predicted_responses,\n",
    "                                            model_id=model_name)\n",
    "\n",
    "print(perplexity_scores)\n",
    "\n",
    "\n",
    "\n",
    "# Load METEOR metric\n",
    "meteor_metric = load(\"meteor\")\n",
    "\n",
    "# Calculate METEOR score\n",
    "# Add the batch of predictions and references\n",
    "meteor_metric.add_batch(predictions=predicted_responses, references=true_responses)\n",
    "\n",
    "# Compute the METEOR score\n",
    "meteor_score = meteor_metric.compute()\n",
    "print(f\"METEOR Score: {meteor_score['meteor']:.2f}\")\n",
    "\n",
    "# Display the results\n",
    "df_first_200['generated_response'] = predicted_responses\n",
    "\n"
   ]
  },
  {
   "cell_type": "markdown",
   "metadata": {},
   "source": []
  },
  {
   "cell_type": "markdown",
   "metadata": {},
   "source": [
    "Structured Pruning\n",
    "\n",
    "METEOR Score: 0.37\n",
    "Average Perplexity: 25945.64"
   ]
  }
 ],
 "metadata": {
  "kernelspec": {
   "display_name": "FINETUNE",
   "language": "python",
   "name": "python3"
  },
  "language_info": {
   "codemirror_mode": {
    "name": "ipython",
    "version": 3
   },
   "file_extension": ".py",
   "mimetype": "text/x-python",
   "name": "python",
   "nbconvert_exporter": "python",
   "pygments_lexer": "ipython3",
   "version": "3.10.14"
  }
 },
 "nbformat": 4,
 "nbformat_minor": 2
}
