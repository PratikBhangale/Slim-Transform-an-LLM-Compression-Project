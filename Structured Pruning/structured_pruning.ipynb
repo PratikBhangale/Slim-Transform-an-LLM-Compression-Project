{
 "cells": [
  {
   "cell_type": "code",
   "execution_count": 1,
   "metadata": {},
   "outputs": [],
   "source": [
    "import torch\n",
    "from transformers import AutoModelForCausalLM, BitsAndBytesConfig, AutoTokenizer\n",
    "import os\n",
    "import numpy as np\n",
    "\n",
    "# os.environ[\"CUDA_VISIBLE_DEVICES\"]=\"9\"\n",
    "\n",
    "token = ''\n",
    "\n",
    "# Clear GPU Cache\n",
    "if torch.cuda.is_available():\n",
    "    torch.cuda.empty_cache()\n",
    "\n",
    "\n",
    "# Force garbage collection\n",
    "import gc\n",
    "gc.collect()\n",
    "\n",
    "# Move models to GPU\n",
    "device = \"cuda\" if torch.cuda.is_available() else \"cpu\"\n",
    "\n",
    "# Configure 4-bit quantization\n",
    "quantization_config_4bit = BitsAndBytesConfig(\n",
    "    load_in_8bit=True,\n",
    "    # bnb_4bit_compute_dtype=torch.float16\n",
    ")"
   ]
  },
  {
   "cell_type": "code",
   "execution_count": 2,
   "metadata": {},
   "outputs": [
    {
     "name": "stdout",
     "output_type": "stream",
     "text": [
      "Pruned model and tokenizer saved to structured_prune\n"
     ]
    }
   ],
   "source": [
    "import torch\n",
    "from transformers import AutoModelForCausalLM, AutoTokenizer\n",
    "from torch.nn.utils import prune\n",
    "\n",
    "# Load the model and tokenizer from Hugging Face\n",
    "model_name = \"meta-llama/Llama-3.2-1B-Instruct\"\n",
    "model = AutoModelForCausalLM.from_pretrained(model_name, token=token)\n",
    "tokenizer = AutoTokenizer.from_pretrained(\"meta-llama/Llama-3.1-8B-Instruct\")\n",
    "\n",
    "# Function to apply structured pruning to a given layer\n",
    "def structured_prune_layer(layer, amount=0.3, n=1):\n",
    "    for name, module in layer.named_modules():\n",
    "        if isinstance(module, torch.nn.Linear):\n",
    "            prune.ln_structured(module, name=\"weight\", amount=amount, dim=0, n=n)\n",
    "\n",
    "# Apply structured pruning to each layer of the model\n",
    "for name, layer in model.named_modules():\n",
    "    if isinstance(layer, torch.nn.Module):\n",
    "        if \"mha\" in name.lower(): \n",
    "            structured_prune_layer(layer, amount=0.2, n=2) \n",
    "        else:\n",
    "            structured_prune_layer(layer, amount=0.4, n=2) \n",
    "\n",
    "# Remove pruning masks to make the pruning permanent\n",
    "for name, module in model.named_modules():\n",
    "    if isinstance(module, torch.nn.Linear):\n",
    "        prune.remove(module, \"weight\")\n",
    "\n",
    "# Save the pruned model and tokenizer\n",
    "output_dir = \"structured_prune\"\n",
    "model.save_pretrained(output_dir)\n",
    "tokenizer.save_pretrained(output_dir)\n",
    "print(f\"Pruned model and tokenizer saved to {output_dir}\")\n"
   ]
  }
 ],
 "metadata": {
  "kernelspec": {
   "display_name": "FINETUNE",
   "language": "python",
   "name": "python3"
  },
  "language_info": {
   "codemirror_mode": {
    "name": "ipython",
    "version": 3
   },
   "file_extension": ".py",
   "mimetype": "text/x-python",
   "name": "python",
   "nbconvert_exporter": "python",
   "pygments_lexer": "ipython3",
   "version": "3.10.14"
  }
 },
 "nbformat": 4,
 "nbformat_minor": 2
}
